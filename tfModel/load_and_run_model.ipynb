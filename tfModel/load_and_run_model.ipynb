{
 "cells": [
  {
   "attachments": {},
   "cell_type": "markdown",
   "metadata": {},
   "source": [
    "# Load and Run existing model"
   ]
  },
  {
   "attachments": {},
   "cell_type": "markdown",
   "metadata": {},
   "source": [
    "Import neccessary packages. Will we be using Intel Openvino "
   ]
  },
  {
   "cell_type": "code",
   "execution_count": 1,
   "metadata": {},
   "outputs": [],
   "source": [
    "import numpy as np\n",
    "import tensorflow as tf\n",
    "import os\n",
    "\n",
    "# Enable these variables for runtime inference optimizations\n",
    "os.environ[\"OPENVINO_TF_CONVERT_VARIABLES_TO_CONSTANTS\"] = \"1\"\n",
    "os.environ[\"TF_ENABLE_ONEDNN_OPTS\"] = \"1\"\n",
    "import openvino_tensorflow as ovtf\n",
    "ovtf.enable()\n",
    "ovtf.set_backend(\"CPU\")"
   ]
  },
  {
   "cell_type": "code",
   "execution_count": 2,
   "metadata": {},
   "outputs": [],
   "source": [
    "img_height = 180\n",
    "img_width = 180"
   ]
  },
  {
   "cell_type": "code",
   "execution_count": 3,
   "metadata": {},
   "outputs": [
    {
     "name": "stderr",
     "output_type": "stream",
     "text": [
      "2023-05-15 22:11:37.848171: I tensorflow/core/platform/cpu_feature_guard.cc:193] This TensorFlow binary is optimized with oneAPI Deep Neural Network Library (oneDNN) to use the following CPU instructions in performance-critical operations:  AVX2 FMA\n",
      "To enable them in other operations, rebuild TensorFlow with the appropriate compiler flags.\n"
     ]
    }
   ],
   "source": [
    "model = tf.keras.models.load_model('hairtypesmodel')"
   ]
  },
  {
   "cell_type": "code",
   "execution_count": 4,
   "metadata": {},
   "outputs": [
    {
     "name": "stdout",
     "output_type": "stream",
     "text": [
      "2023-05-15 22:11:43.431407: OVTF Summary -> 0 out of 7 nodes in the graph (0%) are now running with OpenVINO™ backend\n",
      "2023-05-15 22:11:43.453142: OVTF Summary -> 0 out of 13 nodes in the graph (0%) are now running with OpenVINO™ backend\n",
      "2023-05-15 22:11:43.458399: OVTF Summary -> 0 out of 7 nodes in the graph (0%) are now running with OpenVINO™ backend\n",
      "2023-05-15 22:11:43.557067: OVTF Summary -> 14 out of 42 nodes in the graph (33%) are now running with OpenVINO™ backend\n",
      "1/1 [==============================] - 0s 435ms/step\n",
      "This image most likely belongs to straight with a 99.25 percent confidence.\n"
     ]
    }
   ],
   "source": [
    "class_names = ['coily', 'curly', 'straight', 'wavy']\n",
    "img = tf.keras.utils.load_img('IG-straight.jpeg', target_size=(img_height, img_width))\n",
    "img_array = tf.keras.utils.img_to_array(img)\n",
    "img_array = tf.expand_dims(img_array, 0) # Create a batch\n",
    "predictions = model.predict(img_array)\n",
    "score = tf.nn.softmax(predictions[0])\n",
    "print(\n",
    "    \"This image most likely belongs to {} with a {:.2f} percent confidence.\".format(class_names[np.argmax(score)], 100 * np.max(score))\n",
    ")"
   ]
  }
 ],
 "metadata": {
  "kernelspec": {
   "display_name": "cis9590",
   "language": "python",
   "name": "python3"
  },
  "language_info": {
   "codemirror_mode": {
    "name": "ipython",
    "version": 3
   },
   "file_extension": ".py",
   "mimetype": "text/x-python",
   "name": "python",
   "nbconvert_exporter": "python",
   "pygments_lexer": "ipython3",
   "version": "3.9.6"
  },
  "orig_nbformat": 4,
  "vscode": {
   "interpreter": {
    "hash": "6192c07e887d9f7490765c46fa828566aa012b09c013098a87094137b80183ac"
   }
  }
 },
 "nbformat": 4,
 "nbformat_minor": 2
}
